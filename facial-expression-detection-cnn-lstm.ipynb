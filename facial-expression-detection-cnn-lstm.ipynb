{
 "cells": [
  {
   "cell_type": "markdown",
   "metadata": {},
   "source": [
    "#### **Importing libaries**"
   ]
  },
  {
   "cell_type": "code",
   "execution_count": 10,
   "metadata": {
    "_cell_guid": "79c7e3d0-c299-4dcb-8224-4455121ee9b0",
    "_uuid": "d629ff2d2480ee46fbb7e2d37f6b5fab8052498a",
    "execution": {
     "iopub.execute_input": "2021-05-24T10:13:53.264094Z",
     "iopub.status.busy": "2021-05-24T10:13:53.263605Z",
     "iopub.status.idle": "2021-05-24T10:13:53.272022Z",
     "shell.execute_reply": "2021-05-24T10:13:53.271314Z",
     "shell.execute_reply.started": "2021-05-24T10:13:53.264045Z"
    }
   },
   "outputs": [],
   "source": [
    "import tensorflow as tf\n",
    "\n",
    "\n",
    "from tensorflow.keras.models import Sequential\n",
    "from tensorflow.keras.layers import Conv2D, MaxPooling2D, AveragePooling2D\n",
    "from tensorflow.keras.layers import Dense, Activation, Dropout, Flatten,LSTM\n",
    "from tensorflow.keras.models import Sequential\n",
    "from tensorflow.keras.layers import Dense , Activation , Dropout ,Flatten\n",
    "from tensorflow.keras.layers import Conv2D,MaxPooling2D\n",
    "from tensorflow.keras.metrics import categorical_accuracy\n",
    "from tensorflow.keras.models import model_from_json\n",
    "from tensorflow.keras.callbacks import ModelCheckpoint\n",
    "from tensorflow.keras.optimizers import *\n",
    "from tensorflow.keras.layers import BatchNormalization\n",
    "from tensorflow.keras.preprocessing import image\n",
    "from tensorflow.keras.preprocessing.image import ImageDataGenerator\n",
    "import pandas as pd\n",
    "import numpy as np\n",
    "import matplotlib.pyplot as plt"
   ]
  },
  {
   "cell_type": "markdown",
   "metadata": {},
   "source": [
    "**Reading the files**"
   ]
  },
  {
   "cell_type": "code",
   "execution_count": 16,
   "metadata": {
    "_uuid": "87965c894d3b7f3b3dfc66d8c2a60efcc08a370d",
    "execution": {
     "iopub.execute_input": "2021-05-24T10:13:53.274204Z",
     "iopub.status.busy": "2021-05-24T10:13:53.273937Z",
     "iopub.status.idle": "2021-05-24T10:13:58.500651Z",
     "shell.execute_reply": "2021-05-24T10:13:58.499946Z",
     "shell.execute_reply.started": "2021-05-24T10:13:53.274145Z"
    }
   },
   "outputs": [
    {
     "data": {
      "text/html": [
       "<div>\n",
       "<style scoped>\n",
       "    .dataframe tbody tr th:only-of-type {\n",
       "        vertical-align: middle;\n",
       "    }\n",
       "\n",
       "    .dataframe tbody tr th {\n",
       "        vertical-align: top;\n",
       "    }\n",
       "\n",
       "    .dataframe thead th {\n",
       "        text-align: right;\n",
       "    }\n",
       "</style>\n",
       "<table border=\"1\" class=\"dataframe\">\n",
       "  <thead>\n",
       "    <tr style=\"text-align: right;\">\n",
       "      <th></th>\n",
       "      <th>emotion</th>\n",
       "      <th>pixels</th>\n",
       "      <th>usage</th>\n",
       "    </tr>\n",
       "  </thead>\n",
       "  <tbody>\n",
       "    <tr>\n",
       "      <th>0</th>\n",
       "      <td>emotion</td>\n",
       "      <td>pixels</td>\n",
       "      <td>Usage</td>\n",
       "    </tr>\n",
       "    <tr>\n",
       "      <th>1</th>\n",
       "      <td>0</td>\n",
       "      <td>70 80 82 72 58 58 60 63 54 58 60 48 89 115 121...</td>\n",
       "      <td>Training</td>\n",
       "    </tr>\n",
       "    <tr>\n",
       "      <th>2</th>\n",
       "      <td>0</td>\n",
       "      <td>151 150 147 155 148 133 111 140 170 174 182 15...</td>\n",
       "      <td>Training</td>\n",
       "    </tr>\n",
       "    <tr>\n",
       "      <th>3</th>\n",
       "      <td>2</td>\n",
       "      <td>231 212 156 164 174 138 161 173 182 200 106 38...</td>\n",
       "      <td>Training</td>\n",
       "    </tr>\n",
       "    <tr>\n",
       "      <th>4</th>\n",
       "      <td>4</td>\n",
       "      <td>24 32 36 30 32 23 19 20 30 41 21 22 32 34 21 1...</td>\n",
       "      <td>Training</td>\n",
       "    </tr>\n",
       "    <tr>\n",
       "      <th>5</th>\n",
       "      <td>6</td>\n",
       "      <td>4 0 0 0 0 0 0 0 0 0 0 0 3 15 23 28 48 50 58 84...</td>\n",
       "      <td>Training</td>\n",
       "    </tr>\n",
       "    <tr>\n",
       "      <th>6</th>\n",
       "      <td>2</td>\n",
       "      <td>55 55 55 55 55 54 60 68 54 85 151 163 170 179 ...</td>\n",
       "      <td>Training</td>\n",
       "    </tr>\n",
       "    <tr>\n",
       "      <th>7</th>\n",
       "      <td>4</td>\n",
       "      <td>20 17 19 21 25 38 42 42 46 54 56 62 63 66 82 1...</td>\n",
       "      <td>Training</td>\n",
       "    </tr>\n",
       "    <tr>\n",
       "      <th>8</th>\n",
       "      <td>3</td>\n",
       "      <td>77 78 79 79 78 75 60 55 47 48 58 73 77 79 57 5...</td>\n",
       "      <td>Training</td>\n",
       "    </tr>\n",
       "    <tr>\n",
       "      <th>9</th>\n",
       "      <td>3</td>\n",
       "      <td>85 84 90 121 101 102 133 153 153 169 177 189 1...</td>\n",
       "      <td>Training</td>\n",
       "    </tr>\n",
       "  </tbody>\n",
       "</table>\n",
       "</div>"
      ],
      "text/plain": [
       "   emotion                                             pixels     usage\n",
       "0  emotion                                             pixels     Usage\n",
       "1        0  70 80 82 72 58 58 60 63 54 58 60 48 89 115 121...  Training\n",
       "2        0  151 150 147 155 148 133 111 140 170 174 182 15...  Training\n",
       "3        2  231 212 156 164 174 138 161 173 182 200 106 38...  Training\n",
       "4        4  24 32 36 30 32 23 19 20 30 41 21 22 32 34 21 1...  Training\n",
       "5        6  4 0 0 0 0 0 0 0 0 0 0 0 3 15 23 28 48 50 58 84...  Training\n",
       "6        2  55 55 55 55 55 54 60 68 54 85 151 163 170 179 ...  Training\n",
       "7        4  20 17 19 21 25 38 42 42 46 54 56 62 63 66 82 1...  Training\n",
       "8        3  77 78 79 79 78 75 60 55 47 48 58 73 77 79 57 5...  Training\n",
       "9        3  85 84 90 121 101 102 133 153 153 169 177 189 1...  Training"
      ]
     },
     "execution_count": 16,
     "metadata": {},
     "output_type": "execute_result"
    }
   ],
   "source": [
    "# get the data\n",
    "filname = './new/data/fer2013.csv'\n",
    "label_map = ['Anger', 'Disgust', 'Fear', 'Happy', 'Sad', 'Surprise', 'Neutral']\n",
    "names=['emotion','pixels','usage']\n",
    "df=pd.read_csv('./new/data/fer2013.csv',names=names, na_filter=False)\n",
    "im=df['pixels']\n",
    "df.head(10)"
   ]
  },
  {
   "cell_type": "markdown",
   "metadata": {},
   "source": [
    "**Preprocessing**"
   ]
  },
  {
   "cell_type": "code",
   "execution_count": 14,
   "metadata": {
    "_uuid": "bfde4d91ff367dfa6764202c1b309ea291fb833a",
    "execution": {
     "iopub.execute_input": "2021-05-24T10:13:58.502984Z",
     "iopub.status.busy": "2021-05-24T10:13:58.502708Z",
     "iopub.status.idle": "2021-05-24T10:13:58.510528Z",
     "shell.execute_reply": "2021-05-24T10:13:58.509671Z",
     "shell.execute_reply.started": "2021-05-24T10:13:58.502926Z"
    }
   },
   "outputs": [],
   "source": [
    "def getData(filname):\n",
    "    # images are 48x48\n",
    "    # N = 35887\n",
    "    Y = []\n",
    "    X = []\n",
    "    first = True\n",
    "    for line in open(filname):\n",
    "        if first:\n",
    "            first = False\n",
    "        else:\n",
    "            row = line.split(',')\n",
    "            Y.append(int(row[0]))\n",
    "            X.append([int(p) for p in row[1].split()])\n",
    "\n",
    "    X, Y = np.array(X) / 255.0, np.array(Y)\n",
    "    return X, Y\n"
   ]
  },
  {
   "cell_type": "code",
   "execution_count": 17,
   "metadata": {
    "_uuid": "435d0e06553e3de3fd982e4a4a86c28018ac3913",
    "execution": {
     "iopub.execute_input": "2021-05-24T10:13:58.512664Z",
     "iopub.status.busy": "2021-05-24T10:13:58.512050Z",
     "iopub.status.idle": "2021-05-24T10:14:29.387433Z",
     "shell.execute_reply": "2021-05-24T10:14:29.386627Z",
     "shell.execute_reply.started": "2021-05-24T10:13:58.512353Z"
    }
   },
   "outputs": [
    {
     "name": "stdout",
     "output_type": "stream",
     "text": [
      "7\n"
     ]
    }
   ],
   "source": [
    "X, Y = getData(filname)\n",
    "num_class = len(set(Y))\n",
    "print(num_class)"
   ]
  },
  {
   "cell_type": "code",
   "execution_count": 8,
   "metadata": {
    "_uuid": "f3c6bfb7aaf3c25ba7cdd5621e4d62b9eaa5502e",
    "execution": {
     "iopub.execute_input": "2021-05-24T10:14:29.388627Z",
     "iopub.status.busy": "2021-05-24T10:14:29.388375Z",
     "iopub.status.idle": "2021-05-24T10:14:29.395989Z",
     "shell.execute_reply": "2021-05-24T10:14:29.395063Z",
     "shell.execute_reply.started": "2021-05-24T10:14:29.388567Z"
    }
   },
   "outputs": [],
   "source": [
    "# keras with tensorflow backend\n",
    "N, D = X.shape\n",
    "X = X.reshape(N, 48, 48, 1)"
   ]
  },
  {
   "cell_type": "markdown",
   "metadata": {},
   "source": [
    "**Train-test split**"
   ]
  },
  {
   "cell_type": "code",
   "execution_count": 9,
   "metadata": {
    "_uuid": "be4faef86c3c5635697f10939547edd5c8760308",
    "execution": {
     "iopub.execute_input": "2021-05-24T10:14:29.397110Z",
     "iopub.status.busy": "2021-05-24T10:14:29.396874Z",
     "iopub.status.idle": "2021-05-24T10:14:29.790396Z",
     "shell.execute_reply": "2021-05-24T10:14:29.789475Z",
     "shell.execute_reply.started": "2021-05-24T10:14:29.397066Z"
    }
   },
   "outputs": [],
   "source": [
    "from sklearn.model_selection import train_test_split\n",
    "\n",
    "X_train, X_test, y_train, y_test = train_test_split(X, Y, test_size=0.1, random_state=0)\n",
    "y_train = (np.arange(num_class) == y_train[:, None]).astype(np.float32)\n",
    "y_test = (np.arange(num_class) == y_test[:, None]).astype(np.float32)"
   ]
  },
  {
   "cell_type": "markdown",
   "metadata": {},
   "source": [
    "**Defining our CNN model**"
   ]
  },
  {
   "cell_type": "code",
   "execution_count": 10,
   "metadata": {
    "_uuid": "c8eaecce539d06c983ed73142ac1484dbfa5e970",
    "execution": {
     "iopub.execute_input": "2021-05-24T10:14:29.791619Z",
     "iopub.status.busy": "2021-05-24T10:14:29.791373Z",
     "iopub.status.idle": "2021-05-24T10:14:31.783896Z",
     "shell.execute_reply": "2021-05-24T10:14:31.783200Z",
     "shell.execute_reply.started": "2021-05-24T10:14:29.791560Z"
    }
   },
   "outputs": [
    {
     "name": "stdout",
     "output_type": "stream",
     "text": [
      "_________________________________________________________________\n",
      "Layer (type)                 Output Shape              Param #   \n",
      "=================================================================\n",
      "conv2d_1 (Conv2D)            (None, 48, 48, 64)        1664      \n",
      "_________________________________________________________________\n",
      "conv2d_2 (Conv2D)            (None, 48, 48, 64)        102464    \n",
      "_________________________________________________________________\n",
      "batch_normalization_1 (Batch (None, 48, 48, 64)        256       \n",
      "_________________________________________________________________\n",
      "max_pooling2d_1 (MaxPooling2 (None, 24, 24, 64)        0         \n",
      "_________________________________________________________________\n",
      "conv2d_3 (Conv2D)            (None, 24, 24, 128)       204928    \n",
      "_________________________________________________________________\n",
      "conv2d_4 (Conv2D)            (None, 24, 24, 128)       409728    \n",
      "_________________________________________________________________\n",
      "batch_normalization_2 (Batch (None, 24, 24, 128)       512       \n",
      "_________________________________________________________________\n",
      "max_pooling2d_2 (MaxPooling2 (None, 12, 12, 128)       0         \n",
      "_________________________________________________________________\n",
      "conv2d_5 (Conv2D)            (None, 12, 12, 256)       295168    \n",
      "_________________________________________________________________\n",
      "conv2d_6 (Conv2D)            (None, 12, 12, 256)       590080    \n",
      "_________________________________________________________________\n",
      "batch_normalization_3 (Batch (None, 12, 12, 256)       1024      \n",
      "_________________________________________________________________\n",
      "max_pooling2d_3 (MaxPooling2 (None, 6, 6, 256)         0         \n",
      "_________________________________________________________________\n",
      "flatten_1 (Flatten)          (None, 9216)              0         \n",
      "_________________________________________________________________\n",
      "dense_1 (Dense)              (None, 128)               1179776   \n",
      "_________________________________________________________________\n",
      "batch_normalization_4 (Batch (None, 128)               512       \n",
      "_________________________________________________________________\n",
      "activation_1 (Activation)    (None, 128)               0         \n",
      "_________________________________________________________________\n",
      "dropout_1 (Dropout)          (None, 128)               0         \n",
      "_________________________________________________________________\n",
      "dense_2 (Dense)              (None, 7)                 903       \n",
      "_________________________________________________________________\n",
      "activation_2 (Activation)    (None, 7)                 0         \n",
      "=================================================================\n",
      "Total params: 2,787,015\n",
      "Trainable params: 2,785,863\n",
      "Non-trainable params: 1,152\n",
      "_________________________________________________________________\n"
     ]
    }
   ],
   "source": [
    "def my_model():\n",
    "    model = Sequential()\n",
    "    input_shape = (48,48,1)\n",
    "    model.add(Conv2D(64, (5, 5), input_shape=input_shape,activation='relu', padding='same'))\n",
    "    model.add(Conv2D(64, (5, 5), activation='relu', padding='same'))\n",
    "    model.add(BatchNormalization())\n",
    "    model.add(MaxPooling2D(pool_size=(2, 2)))\n",
    "\n",
    "    model.add(Conv2D(128, (5, 5),activation='relu',padding='same'))\n",
    "    model.add(Conv2D(128, (5, 5),activation='relu',padding='same'))\n",
    "    model.add(BatchNormalization())\n",
    "    model.add(MaxPooling2D(pool_size=(2, 2)))\n",
    "\n",
    "    model.add(Conv2D(256, (3, 3),activation='relu',padding='same'))\n",
    "    model.add(Conv2D(256, (3, 3),activation='relu',padding='same'))\n",
    "    model.add(BatchNormalization())\n",
    "    model.add(MaxPooling2D(pool_size=(2, 2)))\n",
    "\n",
    "    model.add(Flatten())\n",
    "    model.add(Dense(128))\n",
    "    model.add(BatchNormalization())\n",
    "    model.add(Activation('relu'))\n",
    "    model.add(Dropout(0.2))\n",
    "    model.add(Dense(7))\n",
    "    model.add(Activation('softmax'))\n",
    "    \n",
    "    model.compile(loss='categorical_crossentropy', metrics=['accuracy'],optimizer='adam')\n",
    "    # UNCOMMENT THIS TO VIEW THE ARCHITECTURE\n",
    "    #model.summary()\n",
    "    \n",
    "    return model\n",
    "model=my_model()\n",
    "model.summary()"
   ]
  },
  {
   "cell_type": "code",
   "execution_count": 11,
   "metadata": {
    "_uuid": "5004be413385dbdf6c3967d34c59e541095ea667",
    "execution": {
     "iopub.execute_input": "2021-05-24T10:14:31.784962Z",
     "iopub.status.busy": "2021-05-24T10:14:31.784729Z",
     "iopub.status.idle": "2021-05-24T10:19:26.035908Z",
     "shell.execute_reply": "2021-05-24T10:19:26.035080Z",
     "shell.execute_reply.started": "2021-05-24T10:14:31.784918Z"
    }
   },
   "outputs": [
    {
     "name": "stdout",
     "output_type": "stream",
     "text": [
      "Train on 32298 samples, validate on 3589 samples\n",
      "Epoch 1/20\n",
      "32298/32298 [==============================] - 19s 602us/step - loss: 1.6501 - acc: 0.3562 - val_loss: 1.4523 - val_acc: 0.4472\n",
      "Epoch 2/20\n",
      "32298/32298 [==============================] - 14s 439us/step - loss: 1.2880 - acc: 0.5137 - val_loss: 1.3007 - val_acc: 0.4990\n",
      "Epoch 3/20\n",
      "32298/32298 [==============================] - 14s 446us/step - loss: 1.1204 - acc: 0.5766 - val_loss: 1.1900 - val_acc: 0.5553\n",
      "Epoch 4/20\n",
      "32298/32298 [==============================] - 14s 436us/step - loss: 1.0000 - acc: 0.6268 - val_loss: 1.1796 - val_acc: 0.5545\n",
      "Epoch 5/20\n",
      "32298/32298 [==============================] - 14s 442us/step - loss: 0.8830 - acc: 0.6709 - val_loss: 1.1649 - val_acc: 0.5709\n",
      "Epoch 6/20\n",
      "32298/32298 [==============================] - 14s 440us/step - loss: 0.7410 - acc: 0.7312 - val_loss: 1.2765 - val_acc: 0.5483\n",
      "Epoch 7/20\n",
      "32298/32298 [==============================] - 14s 437us/step - loss: 0.5795 - acc: 0.7900 - val_loss: 1.1598 - val_acc: 0.6085\n",
      "Epoch 8/20\n",
      "32298/32298 [==============================] - 14s 447us/step - loss: 0.4178 - acc: 0.8518 - val_loss: 1.3235 - val_acc: 0.5876\n",
      "Epoch 9/20\n",
      "32298/32298 [==============================] - 14s 441us/step - loss: 0.2868 - acc: 0.9030 - val_loss: 1.4293 - val_acc: 0.6191\n",
      "Epoch 10/20\n",
      "32298/32298 [==============================] - 14s 449us/step - loss: 0.2141 - acc: 0.9273 - val_loss: 1.7392 - val_acc: 0.5965\n",
      "Epoch 11/20\n",
      "32298/32298 [==============================] - 14s 439us/step - loss: 0.1607 - acc: 0.9473 - val_loss: 1.7403 - val_acc: 0.5940\n",
      "Epoch 12/20\n",
      "32298/32298 [==============================] - 14s 441us/step - loss: 0.1394 - acc: 0.9546 - val_loss: 1.9357 - val_acc: 0.6057\n",
      "Epoch 13/20\n",
      "32298/32298 [==============================] - 14s 439us/step - loss: 0.1265 - acc: 0.9591 - val_loss: 1.9448 - val_acc: 0.6021\n",
      "Epoch 14/20\n",
      "32298/32298 [==============================] - 14s 441us/step - loss: 0.1096 - acc: 0.9630 - val_loss: 2.0312 - val_acc: 0.5982\n",
      "Epoch 15/20\n",
      "32298/32298 [==============================] - 14s 438us/step - loss: 0.0936 - acc: 0.9702 - val_loss: 1.9271 - val_acc: 0.6066\n",
      "Epoch 16/20\n",
      "32298/32298 [==============================] - 14s 441us/step - loss: 0.0987 - acc: 0.9672 - val_loss: 2.0024 - val_acc: 0.6091\n",
      "Epoch 17/20\n",
      "32298/32298 [==============================] - 14s 441us/step - loss: 0.0852 - acc: 0.9721 - val_loss: 2.0169 - val_acc: 0.6080\n",
      "Epoch 18/20\n",
      "32298/32298 [==============================] - 14s 437us/step - loss: 0.0816 - acc: 0.9735 - val_loss: 2.1087 - val_acc: 0.6077\n",
      "Epoch 19/20\n",
      "32298/32298 [==============================] - 14s 443us/step - loss: 0.0794 - acc: 0.9741 - val_loss: 2.2245 - val_acc: 0.5940\n",
      "Epoch 20/20\n",
      "32298/32298 [==============================] - 14s 438us/step - loss: 0.0795 - acc: 0.9737 - val_loss: 2.3406 - val_acc: 0.5985\n"
     ]
    }
   ],
   "source": [
    "path_model='model_filter.h5' # save model at this location after each epoch\n",
    "K.tensorflow_backend.clear_session() # destroys the current graph and builds a new one\n",
    "model=my_model() # create the model\n",
    "K.set_value(model.optimizer.lr,1e-3) # set the learning rate\n",
    "# fit the model\n",
    "h=model.fit(x=X_train,     \n",
    "            y=y_train, \n",
    "            batch_size=64, \n",
    "            epochs=20, \n",
    "            verbose=1, \n",
    "            validation_data=(X_test,y_test),\n",
    "            shuffle=True,\n",
    "            callbacks=[\n",
    "                ModelCheckpoint(filepath=path_model),\n",
    "            ]\n",
    "            )"
   ]
  },
  {
   "cell_type": "code",
   "execution_count": 12,
   "metadata": {
    "execution": {
     "iopub.execute_input": "2021-05-24T10:19:26.039727Z",
     "iopub.status.busy": "2021-05-24T10:19:26.039421Z",
     "iopub.status.idle": "2021-05-24T10:19:26.145843Z",
     "shell.execute_reply": "2021-05-24T10:19:26.145031Z",
     "shell.execute_reply.started": "2021-05-24T10:19:26.039676Z"
    }
   },
   "outputs": [],
   "source": [
    "model.save('modelcnn.h5')"
   ]
  },
  {
   "cell_type": "markdown",
   "metadata": {},
   "source": [
    "**Feature Ectraction from CNN**"
   ]
  },
  {
   "cell_type": "code",
   "execution_count": 13,
   "metadata": {
    "execution": {
     "iopub.execute_input": "2021-05-24T10:19:26.148081Z",
     "iopub.status.busy": "2021-05-24T10:19:26.147781Z",
     "iopub.status.idle": "2021-05-24T10:19:26.155474Z",
     "shell.execute_reply": "2021-05-24T10:19:26.154784Z",
     "shell.execute_reply.started": "2021-05-24T10:19:26.148031Z"
    }
   },
   "outputs": [],
   "source": [
    "from keras import models\n",
    "modelfeatured = models.Model(\n",
    "    inputs=model.input,\n",
    "    outputs=model.get_layer('max_pooling2d_3').output\n",
    ")"
   ]
  },
  {
   "cell_type": "code",
   "execution_count": 14,
   "metadata": {
    "execution": {
     "iopub.execute_input": "2021-05-24T10:19:26.157364Z",
     "iopub.status.busy": "2021-05-24T10:19:26.156802Z",
     "iopub.status.idle": "2021-05-24T10:19:32.470800Z",
     "shell.execute_reply": "2021-05-24T10:19:32.470047Z",
     "shell.execute_reply.started": "2021-05-24T10:19:26.157098Z"
    }
   },
   "outputs": [],
   "source": [
    "train_featured = modelfeatured.predict(X_train)\n",
    "test_featured = modelfeatured.predict(X_test)"
   ]
  },
  {
   "cell_type": "code",
   "execution_count": 15,
   "metadata": {
    "execution": {
     "iopub.execute_input": "2021-05-24T10:19:32.471994Z",
     "iopub.status.busy": "2021-05-24T10:19:32.471757Z",
     "iopub.status.idle": "2021-05-24T10:19:32.481549Z",
     "shell.execute_reply": "2021-05-24T10:19:32.480786Z",
     "shell.execute_reply.started": "2021-05-24T10:19:32.471949Z"
    }
   },
   "outputs": [
    {
     "data": {
      "text/plain": [
       "(32298, 6, 6, 256)"
      ]
     },
     "execution_count": 15,
     "metadata": {},
     "output_type": "execute_result"
    }
   ],
   "source": [
    "train_featured.shape"
   ]
  },
  {
   "cell_type": "code",
   "execution_count": 16,
   "metadata": {
    "execution": {
     "iopub.execute_input": "2021-05-24T10:19:32.482684Z",
     "iopub.status.busy": "2021-05-24T10:19:32.482452Z",
     "iopub.status.idle": "2021-05-24T10:19:32.504189Z",
     "shell.execute_reply": "2021-05-24T10:19:32.503355Z",
     "shell.execute_reply.started": "2021-05-24T10:19:32.482638Z"
    }
   },
   "outputs": [],
   "source": [
    "x_train = train_featured.reshape(train_featured.shape[0], train_featured.shape[1], train_featured.shape[2]*train_featured.shape[3])\n",
    "x_test = test_featured.reshape(test_featured.shape[0], test_featured.shape[1], test_featured.shape[2]*test_featured.shape[3])"
   ]
  },
  {
   "cell_type": "code",
   "execution_count": 17,
   "metadata": {
    "execution": {
     "iopub.execute_input": "2021-05-24T10:19:32.505369Z",
     "iopub.status.busy": "2021-05-24T10:19:32.505050Z",
     "iopub.status.idle": "2021-05-24T10:19:32.517420Z",
     "shell.execute_reply": "2021-05-24T10:19:32.516490Z",
     "shell.execute_reply.started": "2021-05-24T10:19:32.505321Z"
    }
   },
   "outputs": [
    {
     "data": {
      "text/plain": [
       "(32298, 6, 1536)"
      ]
     },
     "execution_count": 17,
     "metadata": {},
     "output_type": "execute_result"
    }
   ],
   "source": [
    "x_train.shape"
   ]
  },
  {
   "cell_type": "markdown",
   "metadata": {},
   "source": [
    "**LSTM model**"
   ]
  },
  {
   "cell_type": "code",
   "execution_count": 18,
   "metadata": {
    "execution": {
     "iopub.execute_input": "2021-05-24T10:19:32.518691Z",
     "iopub.status.busy": "2021-05-24T10:19:32.518417Z",
     "iopub.status.idle": "2021-05-24T10:19:33.234153Z",
     "shell.execute_reply": "2021-05-24T10:19:33.233451Z",
     "shell.execute_reply.started": "2021-05-24T10:19:32.518618Z"
    }
   },
   "outputs": [],
   "source": [
    "time_step = 6\n",
    "features = 1536 \n",
    "model1 = Sequential()\n",
    "#model.add(Embedding(max_features, output_dim = embed_outDim, input_length = input_length))\n",
    "model1.add(LSTM(256, input_shape=(time_step, features), return_sequences=True))\n",
    "model.add(Dropout(0.5))\n",
    "\n",
    "model1.add(LSTM(128, input_shape=(time_step, 128), return_sequences=True))\n",
    "model1.add(Dropout(0.5))\n",
    "\n",
    "\n",
    "\n",
    "model1.add(Flatten())\n",
    "\n",
    "\n",
    "model1.add(Dense(7, activation='softmax'))\n"
   ]
  },
  {
   "cell_type": "code",
   "execution_count": 19,
   "metadata": {
    "execution": {
     "iopub.execute_input": "2021-05-24T10:19:33.235609Z",
     "iopub.status.busy": "2021-05-24T10:19:33.235317Z",
     "iopub.status.idle": "2021-05-24T10:19:33.244663Z",
     "shell.execute_reply": "2021-05-24T10:19:33.243177Z",
     "shell.execute_reply.started": "2021-05-24T10:19:33.235544Z"
    }
   },
   "outputs": [
    {
     "name": "stdout",
     "output_type": "stream",
     "text": [
      "_________________________________________________________________\n",
      "Layer (type)                 Output Shape              Param #   \n",
      "=================================================================\n",
      "lstm_1 (LSTM)                (None, 6, 256)            1836032   \n",
      "_________________________________________________________________\n",
      "lstm_2 (LSTM)                (None, 6, 128)            197120    \n",
      "_________________________________________________________________\n",
      "dropout_3 (Dropout)          (None, 6, 128)            0         \n",
      "_________________________________________________________________\n",
      "flatten_2 (Flatten)          (None, 768)               0         \n",
      "_________________________________________________________________\n",
      "dense_3 (Dense)              (None, 7)                 5383      \n",
      "=================================================================\n",
      "Total params: 2,038,535\n",
      "Trainable params: 2,038,535\n",
      "Non-trainable params: 0\n",
      "_________________________________________________________________\n"
     ]
    }
   ],
   "source": [
    "model1.summary()"
   ]
  },
  {
   "cell_type": "code",
   "execution_count": 20,
   "metadata": {
    "execution": {
     "iopub.execute_input": "2021-05-24T10:19:33.246008Z",
     "iopub.status.busy": "2021-05-24T10:19:33.245724Z",
     "iopub.status.idle": "2021-05-24T10:19:33.291280Z",
     "shell.execute_reply": "2021-05-24T10:19:33.290527Z",
     "shell.execute_reply.started": "2021-05-24T10:19:33.245935Z"
    }
   },
   "outputs": [],
   "source": [
    "from keras import optimizers\n",
    "adam = optimizers.Adam(lr=0.0001, decay=1e-6)\n",
    "    #Kb.set_value(model.optimizer.lr, 0.01)\n",
    "    \n",
    "        \n",
    "        \n",
    "model1.compile(loss='categorical_crossentropy',\n",
    "              optimizer=adam,   #'adam',\n",
    "              metrics=['accuracy'])"
   ]
  },
  {
   "cell_type": "code",
   "execution_count": 21,
   "metadata": {
    "execution": {
     "iopub.execute_input": "2021-05-24T10:19:33.292380Z",
     "iopub.status.busy": "2021-05-24T10:19:33.292144Z",
     "iopub.status.idle": "2021-05-24T10:23:53.551622Z",
     "shell.execute_reply": "2021-05-24T10:23:53.550644Z",
     "shell.execute_reply.started": "2021-05-24T10:19:33.292321Z"
    }
   },
   "outputs": [
    {
     "name": "stdout",
     "output_type": "stream",
     "text": [
      "Train on 32298 samples, validate on 3589 samples\n",
      "Epoch 1/20\n",
      "32298/32298 [==============================] - 15s 453us/step - loss: 1.2676 - acc: 0.5234 - val_loss: 1.1677 - val_acc: 0.5678\n",
      "Epoch 2/20\n",
      "32298/32298 [==============================] - 13s 391us/step - loss: 0.7591 - acc: 0.7268 - val_loss: 1.2042 - val_acc: 0.5890\n",
      "Epoch 3/20\n",
      "32298/32298 [==============================] - 13s 398us/step - loss: 0.4898 - acc: 0.8310 - val_loss: 1.3474 - val_acc: 0.5832\n",
      "Epoch 4/20\n",
      "32298/32298 [==============================] - 13s 391us/step - loss: 0.2822 - acc: 0.9100 - val_loss: 1.5312 - val_acc: 0.5963\n",
      "Epoch 5/20\n",
      "32298/32298 [==============================] - 13s 410us/step - loss: 0.1377 - acc: 0.9633 - val_loss: 1.7653 - val_acc: 0.5876\n",
      "Epoch 6/20\n",
      "32298/32298 [==============================] - 13s 388us/step - loss: 0.0683 - acc: 0.9857 - val_loss: 1.9227 - val_acc: 0.5938\n",
      "Epoch 7/20\n",
      "32298/32298 [==============================] - 13s 388us/step - loss: 0.0429 - acc: 0.9927 - val_loss: 2.1117 - val_acc: 0.6046\n",
      "Epoch 8/20\n",
      "32298/32298 [==============================] - 13s 405us/step - loss: 0.0356 - acc: 0.9941 - val_loss: 2.1694 - val_acc: 0.6032\n",
      "Epoch 9/20\n",
      "32298/32298 [==============================] - 13s 392us/step - loss: 0.0294 - acc: 0.9949 - val_loss: 2.2633 - val_acc: 0.5910\n",
      "Epoch 10/20\n",
      "32298/32298 [==============================] - 13s 405us/step - loss: 0.0251 - acc: 0.9958 - val_loss: 2.3077 - val_acc: 0.5963\n",
      "Epoch 11/20\n",
      "32298/32298 [==============================] - 13s 401us/step - loss: 0.0208 - acc: 0.9958 - val_loss: 2.3989 - val_acc: 0.5876\n",
      "Epoch 12/20\n",
      "32298/32298 [==============================] - 13s 389us/step - loss: 0.0222 - acc: 0.9959 - val_loss: 2.4630 - val_acc: 0.5926\n",
      "Epoch 13/20\n",
      "32298/32298 [==============================] - 13s 403us/step - loss: 0.0214 - acc: 0.9955 - val_loss: 2.5348 - val_acc: 0.5876\n",
      "Epoch 14/20\n",
      "32298/32298 [==============================] - 13s 393us/step - loss: 0.0205 - acc: 0.9958 - val_loss: 2.5251 - val_acc: 0.5954\n",
      "Epoch 15/20\n",
      "32298/32298 [==============================] - 13s 403us/step - loss: 0.0192 - acc: 0.9956 - val_loss: 2.5412 - val_acc: 0.6013\n",
      "Epoch 16/20\n",
      "32298/32298 [==============================] - 13s 392us/step - loss: 0.0189 - acc: 0.9959 - val_loss: 2.6241 - val_acc: 0.5949\n",
      "Epoch 17/20\n",
      "32298/32298 [==============================] - 13s 399us/step - loss: 0.0134 - acc: 0.9966 - val_loss: 2.6654 - val_acc: 0.5893\n",
      "Epoch 18/20\n",
      "32298/32298 [==============================] - 13s 412us/step - loss: 0.0130 - acc: 0.9967 - val_loss: 2.6726 - val_acc: 0.5924\n",
      "Epoch 19/20\n",
      "32298/32298 [==============================] - 12s 385us/step - loss: 0.0179 - acc: 0.9949 - val_loss: 2.6144 - val_acc: 0.5879\n",
      "Epoch 20/20\n",
      "32298/32298 [==============================] - 13s 405us/step - loss: 0.0171 - acc: 0.9951 - val_loss: 2.7585 - val_acc: 0.5882\n"
     ]
    }
   ],
   "source": [
    "h=model1.fit(x=x_train,     \n",
    "            y=y_train, \n",
    "            batch_size=64, \n",
    "            epochs=20, \n",
    "            verbose=1, \n",
    "            validation_data=(x_test,y_test),\n",
    "            shuffle=True,\n",
    "            )"
   ]
  },
  {
   "cell_type": "markdown",
   "metadata": {},
   "source": [
    "# Testing`our model in  real time through Webcam"
   ]
  },
  {
   "cell_type": "code",
   "execution_count": 28,
   "metadata": {
    "execution": {
     "iopub.execute_input": "2021-05-24T10:23:53.552793Z",
     "iopub.status.busy": "2021-05-24T10:23:53.552546Z",
     "iopub.status.idle": "2021-05-24T10:23:53.828378Z",
     "shell.execute_reply": "2021-05-24T10:23:53.827669Z",
     "shell.execute_reply.started": "2021-05-24T10:23:53.552750Z"
    }
   },
   "outputs": [],
   "source": [
    "#model1.save('model_lstm.h5')\n",
    "import cv2\n",
    "import time"
   ]
  },
  {
   "cell_type": "code",
   "execution_count": 29,
   "metadata": {},
   "outputs": [],
   "source": [
    "model=tf.keras.models.load_model('model.h5')"
   ]
  },
  {
   "cell_type": "code",
   "execution_count": 30,
   "metadata": {},
   "outputs": [],
   "source": [
    "emotion_dict = {0: \"Angry\", 1: \"Disgusted\", 2: \"Fearful\", 3: \"Happy\", 4: \"Sad\", 5: \"Surprised\", 6:\"Neutral\" }"
   ]
  },
  {
   "cell_type": "code",
   "execution_count": 31,
   "metadata": {},
   "outputs": [],
   "source": [
    "facecasc =  cv2.CascadeClassifier(cv2.data.haarcascades+'haarcascade_frontalface_default.xml')  "
   ]
  },
  {
   "cell_type": "code",
   "execution_count": 33,
   "metadata": {},
   "outputs": [],
   "source": [
    "cap = cv2.VideoCapture(0)\n",
    "time.sleep(5)\n",
    "c=0\n",
    "while True:\n",
    "    # Find haar cascade to draw bounding box around face\n",
    "    ret, frame = cap.read()\n",
    "    if not ret:\n",
    "        break\n",
    "    # Convert to grayscale  \n",
    "    gray = cv2.cvtColor(frame, cv2.COLOR_BGR2GRAY)\n",
    "    \n",
    "    \n",
    "     # Detect the faces\n",
    "    faces = facecasc.detectMultiScale(gray,scaleFactor=1.3, minNeighbors=5)\n",
    "\n",
    "    for (x, y, w, h) in faces:\n",
    "      \n",
    "        cv2.rectangle(frame, (x, y-50), (x+w, y+h+10), (255, 0, 0), 2)\n",
    "        \n",
    "        roi_gray = gray[y:y + h, x:x + w]\n",
    "        \n",
    "        cropped_img = np.expand_dims(np.expand_dims(cv2.resize(roi_gray, (48, 48)), -1), 0)\n",
    "        \n",
    "        \n",
    "        \n",
    "        prediction = model.predict(cropped_img)\n",
    "        \n",
    "        maxindex = int(np.argmax(prediction))\n",
    "        \n",
    "                \n",
    "        cv2.putText(frame, emotion_dict[maxindex], (x+20, y-60), cv2.FONT_HERSHEY_SIMPLEX, 1, (255, 255, 255), 2, cv2.LINE_AA)\n",
    "        \n",
    "        x=cropped_img[0].reshape(48,48)\n",
    "        \n",
    "        save_image(maxindex,x,c)\n",
    "        \n",
    "        c+=1\n",
    "    cv2.imshow('Video', cv2.resize(frame,(1600,960),interpolation = cv2.INTER_CUBIC))\n",
    "    if cv2.waitKey(1) & 0xFF == ord('q'):\n",
    "        break\n",
    "\n",
    "cap.release()\n",
    "cv2.destroyAllWindows()"
   ]
  },
  {
   "cell_type": "code",
   "execution_count": null,
   "metadata": {},
   "outputs": [],
   "source": [
    "def save_image(emotion_no,img_array,img_no):\n",
    "    \n",
    "    img = Image.fromarray(img_array)\n",
    "\n",
    "\n",
    "    emotion_name = emotion_dict[emotion_no]\n",
    "\n",
    "\n",
    "    if not os.path.exists(f'{os.getcwd()}/emotion/{emotion_name}'):\n",
    "        os.mkdir(f'{os.getcwd()}/emotion/{emotion_name}')\n",
    "\n",
    "    img.save(f'{os.getcwd()}/emotion/{emotion_name}/{img_no}'+'.png')"
   ]
  }
 ],
 "metadata": {
  "kernelspec": {
   "display_name": "Python 3",
   "language": "python",
   "name": "python3"
  },
  "language_info": {
   "codemirror_mode": {
    "name": "ipython",
    "version": 3
   },
   "file_extension": ".py",
   "mimetype": "text/x-python",
   "name": "python",
   "nbconvert_exporter": "python",
   "pygments_lexer": "ipython3",
   "version": "3.8.5"
  }
 },
 "nbformat": 4,
 "nbformat_minor": 4
}
